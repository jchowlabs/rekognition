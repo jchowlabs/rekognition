{
 "cells": [
  {
   "cell_type": "markdown",
   "id": "f9fbd7d3-3ca4-498e-a5a4-5d47d668740b",
   "metadata": {
    "tags": []
   },
   "source": [
    "# Managing users in Amazon Rekognition Face collections"
   ]
  },
  {
   "cell_type": "markdown",
   "id": "18ea57e2-e319-436c-bc1d-e7129be9525f",
   "metadata": {},
   "source": [
    "Amazon Rekognition can store information about detected faces in server-side containers known as collections. \n",
    "You can store individual faces and associate multiple individual faces with a single user. \n",
    "\n",
    "Individual faces are stored as face vectors, a mathematical representation of the face (not the actual image of the face).\n",
    "Multiple face vectors can then be aggregated to create and store user vectors. \n",
    "\n",
    "User vectors are more robust representations, as they contain multiple face vectors with varying degrees of lighting, sharpness, poses, appearance differences, etc. \n",
    "\n",
    "Face matching with user vectors can improve accuracy by up to 45% compared to individual face vectors. You can use faces detected in images, stored videos, and streaming videos to search against stored face vectors and/or user vectors for face matching purposes."
   ]
  },
  {
   "cell_type": "markdown",
   "id": "336973f3-168f-4fa3-84f1-dc41c1ad3436",
   "metadata": {},
   "source": [
    "### Environment Setup"
   ]
  },
  {
   "cell_type": "markdown",
   "id": "dc95bf13-4d54-4bf0-a98d-e6e4d14cf468",
   "metadata": {},
   "source": [
    "First step let's import the necessary libraries to run the notebook and create an Amazon Rekognition client with Boto3."
   ]
  },
  {
   "cell_type": "code",
   "execution_count": null,
   "id": "f237e557-41d3-4698-aa31-59ffa9db196f",
   "metadata": {
    "tags": []
   },
   "outputs": [],
   "source": [
    "import io\n",
    "import os\n",
    "import boto3\n",
    "import json\n",
    "from IPython.display import Image as IImage\n",
    "import pandas as pd\n",
    "\n",
    "%store -r bucket_name\n",
    "mySession = boto3.session.Session()\n",
    "aws_region = mySession.region_name\n",
    "print(\"AWS Region: {}\".format(aws_region))\n",
    "print(\"AWS Bucket: {}\".format(bucket_name))\n"
   ]
  },
  {
   "cell_type": "code",
   "execution_count": null,
   "id": "3e27d4c0-eefe-4ed1-b682-3d98514c0875",
   "metadata": {
    "tags": []
   },
   "outputs": [],
   "source": [
    "s3_client  = boto3.client('s3')\n",
    "rek_client = boto3.client('rekognition')"
   ]
  },
  {
   "cell_type": "markdown",
   "id": "14e66444-8caa-41b5-989d-a3fe0776a5ba",
   "metadata": {
    "tags": []
   },
   "source": [
    "### Create a new collection"
   ]
  },
  {
   "cell_type": "markdown",
   "id": "0ea22624-da77-43d8-b54c-730c89578cc2",
   "metadata": {},
   "source": [
    "Before we begin to create users in Rekognition, we must have an existing face collection. "
   ]
  },
  {
   "cell_type": "code",
   "execution_count": null,
   "id": "82372a98-907d-42cb-a550-982e9cc9d305",
   "metadata": {
    "tags": []
   },
   "outputs": [],
   "source": [
    "collection_id='My_Face_Collection1' # Remember you must use a unique name if you are creating a new collection"
   ]
  },
  {
   "cell_type": "code",
   "execution_count": null,
   "id": "42c7a93c-ac1d-4fee-8d70-a2ccdb3e86de",
   "metadata": {
    "tags": []
   },
   "outputs": [],
   "source": [
    "def create_collection(collection_id):\n",
    "    print('Creating collection:' + collection_id)\n",
    "    response=rek_client.create_collection(CollectionId=collection_id)\n",
    "    print('Collection ARN: ' + response['CollectionArn'])\n",
    "    print('Status code: ' + str(response['StatusCode']))\n",
    "    print('Done...')\n",
    "    \n",
    "create_collection(collection_id)"
   ]
  },
  {
   "cell_type": "markdown",
   "id": "958fc431-f505-4c15-942b-b4d3894a6dc8",
   "metadata": {},
   "source": [
    "### Confirm your collection creation\n",
    "Let's display the collections in our account to verify the previous collection was completed correctly."
   ]
  },
  {
   "cell_type": "code",
   "execution_count": null,
   "id": "ef270391-80a8-4598-bc50-2f816710e40a",
   "metadata": {
    "tags": []
   },
   "outputs": [],
   "source": [
    "def list_collections():\n",
    "\n",
    "    max_results=10\n",
    "\n",
    "    print('Displaying collections...')\n",
    "    response=rek_client.list_collections(MaxResults=max_results)\n",
    "    collection_count=0\n",
    "    done=False\n",
    "\n",
    "    while not done:\n",
    "        collections=response['CollectionIds']\n",
    "\n",
    "        for collection in collections:\n",
    "            print (\"- \"+ collection)\n",
    "            collection_count+=1\n",
    "        if 'NextToken' in response:\n",
    "            nextToken=response['NextToken']\n",
    "            response=rek_client.list_collections(NextToken=nextToken,MaxResults=max_results)\n",
    "\n",
    "        else:\n",
    "            done=True\n",
    "            \n",
    "    return collection_count\n",
    "\n",
    "collection_count=list_collections()\n",
    "\n",
    "print(\"Collections: \" + str(collection_count))"
   ]
  },
  {
   "cell_type": "markdown",
   "id": "96fea421-cd9f-4288-b07d-6d527535a4d4",
   "metadata": {},
   "source": [
    "### Create a new user\n",
    "Once the collection is created, we can proceed to create a user. We are going to use the **create_user** method, which creates a new user in a collection and returns a unique user ID."
   ]
  },
  {
   "cell_type": "code",
   "execution_count": null,
   "id": "0d5ddc3d-421f-4f18-b8f7-aed0df294cbd",
   "metadata": {
    "tags": []
   },
   "outputs": [],
   "source": [
    "user_id = \"Daniel\"\n",
    "user2_id = \"John\"\n",
    "def create_user(user_id):\n",
    "    response = rek_client.create_user(\n",
    "        CollectionId=collection_id, \n",
    "        UserId=user_id,\n",
    "    )\n",
    "    print(response)\n",
    "\n",
    "create_user(user_id)\n",
    "create_user(user2_id)"
   ]
  },
  {
   "cell_type": "markdown",
   "id": "c0cc9ff3-d093-450c-a1df-2d943359500f",
   "metadata": {},
   "source": [
    "### Confirm your collection creation\n",
    "With the **list_users** method we can see the created users in our collection. \n",
    "\n",
    "The **UserStatus** reflects the status of an operation which updates a User representation with a list of given faces. The can be:\n",
    "- ACTIVE - All associations or disassociations of FaceID(s) for a User are complete.\n",
    "- CREATED - A User has been created,but has no FaceID(s) associated with it.\n",
    "- UPDATING - A User is being updated and there are current associations or disassociations of FaceID(s) taking place."
   ]
  },
  {
   "cell_type": "code",
   "execution_count": null,
   "id": "ac08761b-341a-4e8b-8ae8-d44e08e593af",
   "metadata": {
    "tags": []
   },
   "outputs": [],
   "source": [
    "# ListUsers - Lists the users in a collection.\n",
    "def list_users():\n",
    "    response = rek_client.list_users(\n",
    "        CollectionId=collection_id\n",
    "    )\n",
    "    print(response[\"Users\"])\n",
    "\n",
    "list_users()\n"
   ]
  },
  {
   "cell_type": "markdown",
   "id": "1c198ecb-b02b-47e3-abe8-8d2d8439a9c0",
   "metadata": {
    "tags": []
   },
   "source": [
    "### Add faces to a collection\n",
    "Now we have our user created, let's populate the face collection with photos which will later be associated to the user. "
   ]
  },
  {
   "cell_type": "code",
   "execution_count": null,
   "id": "f1045b12-0f0b-4ae8-a9db-2cc1c633bcf4",
   "metadata": {
    "tags": []
   },
   "outputs": [],
   "source": [
    "# -- read the image map into a pandas dataframe --\n",
    "obj = s3_client.get_object(Bucket=bucket_name, Key='IDVImageMapping.xlsx')\n",
    "\n",
    "image_map = pd.read_excel(io.BytesIO(obj['Body'].read()), engine='openpyxl')\n",
    "image_map.head()"
   ]
  },
  {
   "cell_type": "code",
   "execution_count": null,
   "id": "ff0aaea3-1d83-4cc6-a5b0-d303da2ce1da",
   "metadata": {
    "tags": []
   },
   "outputs": [],
   "source": [
    "## Index several faces \n",
    "dict_of_faces = image_map[[\"reference_name\",\"reference_image\"]].to_dict('records')\n",
    "\n",
    "for rec in dict_of_faces:\n",
    "    try:\n",
    "        response = rek_client.index_faces(\n",
    "            CollectionId= collection_id,\n",
    "            Image={\n",
    "                'S3Object': {\n",
    "                    'Bucket': bucket_name,\n",
    "                    'Name': rec[\"reference_image\"],\n",
    "                }\n",
    "            },\n",
    "            ExternalImageId=rec['reference_name'],\n",
    "            DetectionAttributes=[\n",
    "                'DEFAULT',\n",
    "            ],\n",
    "            MaxFaces=1, # maximum faces detected \n",
    "            QualityFilter='AUTO' # apply the quality filter. \n",
    "            )\n",
    "        face_id = response['FaceRecords'][0]['Face']['FaceId']\n",
    "        print(\"ImageName: {}, FaceID: {}\".format(rec[\"reference_image\"], face_id))\n",
    "    except:\n",
    "         print(\"Failed: ImageName: {}, FaceID: {}\".format(rec[\"reference_image\"], face_id))\n",
    "    \n",
    "\n",
    "print(\"indexing complete\")\n",
    "    "
   ]
  },
  {
   "cell_type": "markdown",
   "id": "aafd4107-fbad-4380-83c7-9fdfd338ff6e",
   "metadata": {},
   "source": [
    "### List faces in the collection\n",
    "Review the faces have been correctly indexed into the collection."
   ]
  },
  {
   "cell_type": "code",
   "execution_count": null,
   "id": "2e0ef10f-2eda-4947-af00-aece4203e195",
   "metadata": {
    "tags": []
   },
   "outputs": [],
   "source": [
    "def list_collection_faces(collection_id):\n",
    "    response = rek_client.list_faces(\n",
    "        CollectionId=collection_id\n",
    "    )\n",
    "    faces = []\n",
    "    for face in response[\"Faces\"]:\n",
    "        faces.append({\"Name\":face[\"ExternalImageId\"],\"FaceId\":str(face[\"FaceId\"])})\n",
    "        print(\"Image: {}, FaceId: {}\".format(face[\"ExternalImageId\"],face[\"FaceId\"]))\n",
    "    return faces\n",
    "\n",
    "faces = list_collection_faces(collection_id)"
   ]
  },
  {
   "cell_type": "markdown",
   "id": "b00814ba-d54e-4372-a985-4529db103e2c",
   "metadata": {},
   "source": [
    "### Search face by image\n",
    "Let's compare searching against a collection with a single photo of a user vs the results when you associate multiple faces to a user vector."
   ]
  },
  {
   "cell_type": "code",
   "execution_count": null,
   "id": "c30f322b-e3a1-4644-83d0-e53793a46a34",
   "metadata": {
    "tags": []
   },
   "outputs": [],
   "source": [
    "def search_face_by_image(data, collection):\n",
    "    searchresults = rek_client.search_faces_by_image(CollectionId=collection,\n",
    "                                                    Image={'Bytes':data},\n",
    "                                                    FaceMatchThreshold=50)\n",
    "    return searchresults"
   ]
  },
  {
   "cell_type": "code",
   "execution_count": null,
   "id": "5c3d0ade-7398-41f6-abbd-5cc817837c0b",
   "metadata": {
    "tags": []
   },
   "outputs": [],
   "source": [
    "file = open(\"media/test/test1.jpg\", \"rb\") # opening for [r]eading as [b]inary\n",
    "data = file.read() "
   ]
  },
  {
   "cell_type": "code",
   "execution_count": null,
   "id": "63e943ab-60dc-440d-8c15-b2b4271448bc",
   "metadata": {
    "tags": []
   },
   "outputs": [],
   "source": [
    "results = search_face_by_image(data,collection_id)[\"FaceMatches\"][0]\n",
    "print(\"The similarity searching against a single low quality image is: {}\".format(results[\"Similarity\"]))"
   ]
  },
  {
   "cell_type": "markdown",
   "id": "2759566b-455c-4856-9a5e-bb2568525803",
   "metadata": {},
   "source": [
    "### Associate faces in the collections to a user\n",
    "It's time to associate the faces in our collection to our user. For this task we will use the **associate_faces** method.\n",
    "\n",
    "This method takes an array of FaceIds. Each FaceId that is present in the list is associated with the provided User. The maximum number of total FaceIds per User is 100.\n",
    "\n",
    "The parameter specifies the minimum User match confidence required for the face to be associated with a User that has at least one faceID already associated. This ensures that the FaceIds are associated with the right User. The value ranges from 0-100 and default value is 75."
   ]
  },
  {
   "cell_type": "markdown",
   "id": "d21c4b99-e488-4adf-989c-0cf82aeb9029",
   "metadata": {
    "tags": []
   },
   "source": [
    "#### Associate a single face to a user\n",
    "Let's associate a single face from our faces array. "
   ]
  },
  {
   "cell_type": "code",
   "execution_count": null,
   "id": "33066d05-0b3d-4ccd-8450-6b8cc1dc4d71",
   "metadata": {
    "tags": []
   },
   "outputs": [],
   "source": [
    "def get_faceid_by_name(name, data):\n",
    "    for item in data:\n",
    "        if 'Name' in item and item['Name'] == name:\n",
    "            return item.get('FaceId', None)\n",
    "    return None\n",
    "\n",
    "faceIds = []\n",
    "name_to_find = 'Dani'\n",
    "\n",
    "face_id = get_faceid_by_name(name_to_find, faces)\n",
    "\n",
    "if face_id is not None:\n",
    "    faceIds.append(face_id)\n",
    "    print(f\"The FaceId for '{name_to_find}' is: {face_id}\")\n",
    "    print(f\"The FaceIds array to attach to the user is: {faceIds}\")\n",
    "else:\n",
    "    print(f\"No FaceId found for '{name_to_find}'.\")"
   ]
  },
  {
   "cell_type": "code",
   "execution_count": null,
   "id": "3022c2a8-e9f6-422a-8b4a-72d6ee160d33",
   "metadata": {},
   "outputs": [],
   "source": [
    "def associate_one_face(faceid, collection_id, user_id):\n",
    "    response = rek_client.associate_faces(\n",
    "        CollectionId=collection_id,\n",
    "        UserId=user_id,\n",
    "        FaceIds=faceid\n",
    "    )\n",
    "    print(response)\n",
    "\n",
    "associate_one_face(faceIds, collection_id, user_id)"
   ]
  },
  {
   "cell_type": "markdown",
   "id": "d672722c-c1b1-426f-a18b-4d43adcee8f3",
   "metadata": {},
   "source": [
    "#### Associate multiple faces in the collections to a user\n",
    "In the previous cells you learned how to associate a single faceId to a user. You can associate multiple faceIds by passing in an array of faceIds.\n",
    "\n",
    "First, let's index more faces of our user into the collection. "
   ]
  },
  {
   "cell_type": "code",
   "execution_count": null,
   "id": "31a64b4a-5c86-41a4-a26b-82fb62b2f2f6",
   "metadata": {
    "tags": []
   },
   "outputs": [],
   "source": [
    "images_to_index = [\"dani_0.jpeg\", \"dani_1.jpeg\", \"dani_2.jpeg\",\"dani_3.jpeg\"]\n",
    "external_image_id = \"Dani\"\n",
    "faceIds = []\n",
    "for image_name in images_to_index:\n",
    "    \n",
    "    response = rek_client.index_faces(\n",
    "        CollectionId= collection_id,\n",
    "        Image={\n",
    "            'S3Object': {\n",
    "                'Bucket': bucket_name,\n",
    "                'Name': image_name,\n",
    "            }\n",
    "        },\n",
    "        ExternalImageId=external_image_id,\n",
    "        DetectionAttributes=[\n",
    "            'DEFAULT',\n",
    "        ],\n",
    "        MaxFaces=1, # maximum faces detected \n",
    "        QualityFilter='AUTO' # apply the quality filter. \n",
    "        )\n",
    "    face_id = response['FaceRecords'][0]['Face']['FaceId']\n",
    "    faceIds.append(face_id)\n",
    "    print(\"ImageName: {}, FaceID: {}\".format(image_name, face_id))\n",
    "    \n",
    "\n",
    "print(\"indexing complete\")\n",
    "print(f\"The FaceIds array to attach to the user is: {faceIds}\")"
   ]
  },
  {
   "cell_type": "markdown",
   "id": "f7e3320d-bfe5-4f4a-b622-d3924f1f8288",
   "metadata": {},
   "source": [
    "Let's associate the faces from our faces array"
   ]
  },
  {
   "cell_type": "code",
   "execution_count": null,
   "id": "72b4c286-92cc-4be0-902b-57015dbbab0c",
   "metadata": {
    "tags": []
   },
   "outputs": [],
   "source": [
    "def associate_multiple_faces(faces, collection_id, user_id):\n",
    "    response = rek_client.associate_faces(\n",
    "        CollectionId=collection_id,\n",
    "        UserId=user_id,\n",
    "        FaceIds=faces,\n",
    "        UserMatchThreshold=75\n",
    "    )\n",
    "    print(response)\n",
    "\n",
    "associate_multiple_faces(faceIds, collection_id, user_id)"
   ]
  },
  {
   "cell_type": "markdown",
   "id": "40e8b962-302d-465e-9715-be5be50fee7a",
   "metadata": {},
   "source": [
    "### Search Users by UserId or FaceId\n",
    "Searches for Users within a collection based on a or UserId. This API can be used to find the closest User (with a highest similarity) to associate a face. \n",
    "\n",
    "The request must be provided with either FaceId or UserId. The operation returns an array of User that matches the FaceId or UserId, ordered by similarity score with the highest similarity first."
   ]
  },
  {
   "cell_type": "code",
   "execution_count": null,
   "id": "fb1fee2a-9e50-4a80-a547-4f013d86c067",
   "metadata": {
    "tags": []
   },
   "outputs": [],
   "source": [
    "def search_users(collection_id,face_id):\n",
    "    response = rek_client.search_users(\n",
    "        CollectionId=collection_id,\n",
    "        FaceId=face_id\n",
    "        #UserId=user_id\n",
    "    )\n",
    "    print(response)\n",
    "    \n",
    "search_users(collection_id,faceIds[0])"
   ]
  },
  {
   "cell_type": "markdown",
   "id": "210174b2-7737-4c52-b12d-7324fa54da30",
   "metadata": {},
   "source": [
    "### Search Users by Image\n",
    "Searches for Users using a supplied image. It first detects the largest face in the image, and then searches a specified collection for matching Users.\n",
    "\n",
    "The operation returns an array of Users that match the face in the supplied image, ordered by similarity score with the highest similarity first. It also returns a bounding box for the face found in the input image."
   ]
  },
  {
   "cell_type": "code",
   "execution_count": null,
   "id": "d322c0aa-8c80-4ad9-bdb4-ba6fa83d8dd0",
   "metadata": {
    "tags": []
   },
   "outputs": [],
   "source": [
    "image=\"test/test1.jpg\"\n",
    "\n",
    "def search_users_by_image(collection_id,image):\n",
    "    file = open(\"media/{}\".format(image), \"rb\") # opening for [r]eading as [b]inary\n",
    "    data = file.read() \n",
    "    response = rek_client.search_users_by_image(\n",
    "        CollectionId=collection_id,\n",
    "        Image={'Bytes':data}\n",
    "    )\n",
    "    return response\n",
    "    \n",
    "results_user = search_users_by_image(collection_id,image)\n",
    "print(results_user[\"UserMatches\"])\n",
    "print(\"The similarity searching against a single image was: {}\".format(results[\"Similarity\"]))\n",
    "print(\"The similarity searching for users with multiple faces associated is: {}\".format(results_user[\"UserMatches\"][0][\"Similarity\"]))"
   ]
  },
  {
   "cell_type": "markdown",
   "id": "44e3c4cf-175b-4744-9b6f-73b9162a3c5c",
   "metadata": {},
   "source": [
    "### Disassociate faces from a user\n",
    "Remove the association between a Face supplied in an array of FaceIds and the User. If the User is not present already, then a ResourceNotFound exception is thrown."
   ]
  },
  {
   "cell_type": "code",
   "execution_count": null,
   "id": "5de6db2a-5523-4dc5-ac55-ab6a81a5e97a",
   "metadata": {
    "tags": []
   },
   "outputs": [],
   "source": [
    "def disassociate_faces(face_ids,collection_id,user_id):\n",
    "    response = rek_client.disassociate_faces(\n",
    "        CollectionId=collection_id,\n",
    "        UserId=user_id,\n",
    "        FaceIds=face_ids\n",
    "    )\n",
    "    print(response)\n",
    "disassociate_faces(faceIds,collection_id,user_id)"
   ]
  },
  {
   "cell_type": "markdown",
   "id": "2e5f6f10-9b95-4f62-aa0f-bae057cca5f7",
   "metadata": {},
   "source": [
    "### Delete a user\n",
    "Let's delete the user we created in our collection."
   ]
  },
  {
   "cell_type": "code",
   "execution_count": null,
   "id": "58ce4584-a951-4146-9bec-7f4656e4d86a",
   "metadata": {
    "tags": []
   },
   "outputs": [],
   "source": [
    "def delete_user(collection_id,user_id):\n",
    "    response = rek_client.delete_user(\n",
    "        CollectionId=collection_id,\n",
    "        UserId=user_id\n",
    "    )\n",
    "    print(response)"
   ]
  },
  {
   "cell_type": "code",
   "execution_count": null,
   "id": "5cb11318-a857-4c41-a16d-abd016131d78",
   "metadata": {
    "tags": []
   },
   "outputs": [],
   "source": [
    "delete_user(collection_id,user_id)\n",
    "delete_user(collection_id,user2_id)"
   ]
  },
  {
   "cell_type": "code",
   "execution_count": null,
   "id": "9f634a8c-9131-41fd-9eb4-254922593245",
   "metadata": {
    "tags": []
   },
   "outputs": [],
   "source": [
    "list_users()"
   ]
  },
  {
   "cell_type": "markdown",
   "id": "7c3aeef2-3c3a-475b-9724-90dd51d49fec",
   "metadata": {},
   "source": [
    "### Delete collection\n",
    "Let's delete the collections we created in our account."
   ]
  },
  {
   "cell_type": "code",
   "execution_count": null,
   "id": "d4c1b21f-efcf-45d4-8ceb-e28d2b56764e",
   "metadata": {
    "tags": []
   },
   "outputs": [],
   "source": [
    "def delete_collection(collection_id):\n",
    "\n",
    "    print('Attempting to delete collection ' + collection_id)\n",
    "    status_code=0\n",
    "    try:\n",
    "        response=rek_client.delete_collection(CollectionId=collection_id)\n",
    "        status_code=response['StatusCode']\n",
    "        \n",
    "    except ClientError as e:\n",
    "        if e.response['Error']['Code'] == 'ResourceNotFoundException':\n",
    "            print ('The collection ' + collection_id + ' was not found ')\n",
    "        else:\n",
    "            print ('Error other than Not Found occurred: ' + e.response['Error']['Message'])\n",
    "        status_code=e.response['ResponseMetadata']['HTTPStatusCode']\n",
    "    print('Status code: ' + str(status_code))\n",
    "\n",
    "\n",
    "delete_collection(collection_id)"
   ]
  },
  {
   "cell_type": "code",
   "execution_count": null,
   "id": "111cb00c-5ac2-4907-a107-5ed0de47ae9c",
   "metadata": {
    "tags": []
   },
   "outputs": [],
   "source": [
    "collection_count=list_collections()\n",
    "print(\"Collections: \" + str(collection_count))"
   ]
  },
  {
   "cell_type": "code",
   "execution_count": null,
   "id": "0f02f33a-460d-4f94-81cc-10be7fdc3579",
   "metadata": {},
   "outputs": [],
   "source": []
  },
  {
   "cell_type": "code",
   "execution_count": null,
   "id": "4f8f79ef-2339-4229-bbe0-b10db937c45c",
   "metadata": {},
   "outputs": [],
   "source": []
  }
 ],
 "metadata": {
  "instance_type": "ml.t3.medium",
  "kernelspec": {
   "display_name": "Python 3 (Data Science)",
   "language": "python",
   "name": "python3"
  },
  "language_info": {
   "codemirror_mode": {
    "name": "ipython",
    "version": 3
   },
   "file_extension": ".py",
   "mimetype": "text/x-python",
   "name": "python",
   "nbconvert_exporter": "python",
   "pygments_lexer": "ipython3",
   "version": "3.9.7"
  }
 },
 "nbformat": 4,
 "nbformat_minor": 5
}
